{
 "cells": [
  {
   "cell_type": "markdown",
   "metadata": {},
   "source": [
    "# Practice notebook for regression analysis with dependent data in NHANES\n",
    "\n",
    "This notebook will give you the opportunity to perform some analyses\n",
    "using the regression methods for dependent data that we are focusing\n",
    "on in this week of the course.\n",
    "\n",
    "Enter the code in response to each question in the boxes labeled \"enter your code here\".\n",
    "Then enter your responses to the questions in the boxes labeled \"Type\n",
    "Markdown and Latex\".\n",
    "\n",
    "This notebook is based on the NHANES case study notebook for\n",
    "regression with dependent data.  Most of the code that you will need\n",
    "to write below is very similar to code that appears in the case study\n",
    "notebook.  You will need to edit code from that notebook in small ways\n",
    "to adapt it to the prompts below.\n",
    "\n",
    "To get started, we will use the same module imports and read the data\n",
    "in the same way as we did in the case study:"
   ]
  },
  {
   "cell_type": "code",
   "execution_count": 74,
   "metadata": {},
   "outputs": [],
   "source": [
    "%matplotlib inline\n",
    "import matplotlib.pyplot as plt\n",
    "import seaborn as sns\n",
    "import pandas as pd\n",
    "import statsmodels.api as sm\n",
    "import numpy as np\n",
    "\n",
    "url = \"nhanes_2015_2016.csv\"\n",
    "da0 = pd.read_csv(url)\n",
    "\n",
    "vars = [\"BPXSY1\", \"RIDAGEYR\", \"RIAGENDR\", \"RIDRETH1\", \"DMDEDUC2\", \"BMXBMI\",\n",
    "        \"SMQ020\", \"SDMVSTRA\", \"SDMVPSU\", 'BPXDI1']\n",
    "da = da0[vars].dropna()\n",
    "\n",
    "da[\"group\"] = 10*da.SDMVSTRA + da.SDMVPSU"
   ]
  },
  {
   "cell_type": "code",
   "execution_count": null,
   "metadata": {},
   "outputs": [],
   "source": []
  },
  {
   "cell_type": "markdown",
   "metadata": {},
   "source": [
    "## Question 1: \n",
    "\n",
    "Build a marginal linear model using GEE for the first measurement of diastolic blood pressure (`BPXDI1`), accounting for the grouping variable defined above.  This initial model should have no covariates, and will be used to assess the ICC of this blood pressure measure."
   ]
  },
  {
   "cell_type": "code",
   "execution_count": 72,
   "metadata": {},
   "outputs": [
    {
     "data": {
      "text/plain": [
       "'The correlation between two observations in the same cluster is 0.031'"
      ]
     },
     "execution_count": 72,
     "metadata": {},
     "output_type": "execute_result"
    }
   ],
   "source": [
    "formula = \"BPXDI1 ~ 1\"  \n",
    "model = sm.GEE.from_formula(formula=formula, groups='group', cov_struct=sm.cov_struct.Exchangeable(), data=da)\n",
    "result = model.fit()\n",
    "result.cov_struct.summary()"
   ]
  },
  {
   "cell_type": "code",
   "execution_count": 73,
   "metadata": {},
   "outputs": [
    {
     "name": "stdout",
     "output_type": "stream",
     "text": [
      "The correlation between two observations in the same cluster is 0.030\n"
     ]
    }
   ],
   "source": [
    "model = sm.GEE.from_formula(\"BPXSY1 ~ 1\", groups=\"group\",\n",
    "           cov_struct=sm.cov_struct.Exchangeable(), data=da)\n",
    "result = model.fit()\n",
    "print(result.cov_struct.summary())"
   ]
  },
  {
   "cell_type": "markdown",
   "metadata": {},
   "source": [
    "__Q1a.__ What is the ICC for diastolic blood pressure?  What can you\n",
    "  conclude by comparing it to the ICC for systolic blood pressure?"
   ]
  },
  {
   "cell_type": "markdown",
   "metadata": {},
   "source": [
    "The estimated ICC is 0.031, which is higher than ICC for sytolic blood pressure, 0.03"
   ]
  },
  {
   "cell_type": "markdown",
   "metadata": {},
   "source": [
    "## Question 2: \n",
    "\n",
    "Take your model from question 1, and add gender, age, and BMI to it as covariates."
   ]
  },
  {
   "cell_type": "code",
   "execution_count": 75,
   "metadata": {},
   "outputs": [
    {
     "data": {
      "text/plain": [
       "'The correlation between two observations in the same cluster is 0.030'"
      ]
     },
     "execution_count": 75,
     "metadata": {},
     "output_type": "execute_result"
    }
   ],
   "source": [
    "formula = \"BPXDI1 ~ RIAGENDR + RIDAGEYR + BMXBMI\"  \n",
    "model = sm.GEE.from_formula(formula=formula, groups='group', cov_struct=sm.cov_struct.Exchangeable(), data=da)\n",
    "result = model.fit()\n",
    "result.cov_struct.summary()"
   ]
  },
  {
   "cell_type": "markdown",
   "metadata": {},
   "source": [
    "__Q2a.__ What is the ICC for this model?  What can you conclude by comparing it to the ICC for the model that you fit in question 1?"
   ]
  },
  {
   "cell_type": "markdown",
   "metadata": {},
   "source": [
    "ICC now is 0.03, just slightly lower than for the Q1"
   ]
  },
  {
   "cell_type": "markdown",
   "metadata": {},
   "source": [
    "## Question 3: \n",
    "\n",
    "Split the data into separate datasets for females and for males and fit two separate marginal linear models for diastolic blood pressure, one only for females, and one only for males."
   ]
  },
  {
   "cell_type": "code",
   "execution_count": 76,
   "metadata": {},
   "outputs": [
    {
     "name": "stdout",
     "output_type": "stream",
     "text": [
      "Summary for Female Model:\n",
      "                               GEE Regression Results                              \n",
      "===================================================================================\n",
      "Dep. Variable:                      BPXDI1   No. Observations:                 2640\n",
      "Model:                                 GEE   No. clusters:                       30\n",
      "Method:                        Generalized   Min. cluster size:                  59\n",
      "                      Estimating Equations   Max. cluster size:                 125\n",
      "Family:                           Gaussian   Mean cluster size:                88.0\n",
      "Dependence structure:         Exchangeable   Num. iterations:                     6\n",
      "Date:                     Thu, 31 Aug 2023   Scale:                         144.955\n",
      "Covariance type:                    robust   Time:                         12:20:05\n",
      "==============================================================================\n",
      "                 coef    std err          z      P>|z|      [0.025      0.975]\n",
      "------------------------------------------------------------------------------\n",
      "Intercept     68.7721      0.401    171.362      0.000      67.986      69.559\n",
      "==============================================================================\n",
      "Skew:                         -0.6057   Kurtosis:                       3.6063\n",
      "Centered skew:                -0.5898   Centered kurtosis:              3.6173\n",
      "==============================================================================\n",
      "\n",
      "Summary for Male Model:\n",
      "                               GEE Regression Results                              \n",
      "===================================================================================\n",
      "Dep. Variable:                      BPXDI1   No. Observations:                 2462\n",
      "Model:                                 GEE   No. clusters:                       30\n",
      "Method:                        Generalized   Min. cluster size:                  38\n",
      "                      Estimating Equations   Max. cluster size:                 111\n",
      "Family:                           Gaussian   Mean cluster size:                82.1\n",
      "Dependence structure:         Exchangeable   Num. iterations:                     4\n",
      "Date:                     Thu, 31 Aug 2023   Scale:                         177.586\n",
      "Covariance type:                    robust   Time:                         12:20:05\n",
      "==============================================================================\n",
      "                 coef    std err          z      P>|z|      [0.025      0.975]\n",
      "------------------------------------------------------------------------------\n",
      "Intercept     71.2533      0.530    134.501      0.000      70.215      72.292\n",
      "==============================================================================\n",
      "Skew:                         -0.7473   Kurtosis:                       4.1186\n",
      "Centered skew:                -0.7059   Centered kurtosis:              4.0656\n",
      "==============================================================================\n"
     ]
    }
   ],
   "source": [
    "# Create separate datasets for females and males\n",
    "female_data = da[da['RIAGENDR'] == 2]  # Female gender code is 2\n",
    "male_data = da[da['RIAGENDR'] == 1]    # Male gender code is 1\n",
    "\n",
    "# Fit marginal linear models for diastolic blood pressure separately for females and males\n",
    "formula = \"BPXDI1 ~ 1\"  # Model with no covariates\n",
    "\n",
    "# For females\n",
    "model_female = sm.GEE.from_formula(formula=formula, groups='group', cov_struct=sm.cov_struct.Exchangeable(), data=female_data)\n",
    "result_female = model_female.fit()\n",
    "\n",
    "# For males\n",
    "model_male = sm.GEE.from_formula(formula=formula, groups='group', cov_struct=sm.cov_struct.Exchangeable(), data=male_data)\n",
    "result_male = model_male.fit()\n",
    "\n",
    "# Display summaries of the models\n",
    "print(\"Summary for Female Model:\")\n",
    "print(result_female.summary())\n",
    "\n",
    "print(\"\\nSummary for Male Model:\")\n",
    "print(result_male.summary())\n"
   ]
  },
  {
   "cell_type": "markdown",
   "metadata": {},
   "source": [
    "__Q3a.__ What do you learn by comparing these two fitted models?"
   ]
  },
  {
   "cell_type": "markdown",
   "metadata": {},
   "source": [
    "By comparing the summaries of the two fitted models for diastolic blood pressure, some key observations can be made:\n",
    "\n",
    "1. Intercept (Baseline Diastolic Blood Pressure):\n",
    "   - For females: The intercept (baseline diastolic blood pressure) is approximately 68.77 mmHg.\n",
    "   - For males: The intercept (baseline diastolic blood pressure) is approximately 71.25 mmHg.\n",
    "   - This suggests that, on average, males tend to have slightly higher diastolic blood pressure compared to females.\n",
    "\n",
    "2. Skew and Kurtosis:\n",
    "   - Skew and kurtosis values indicate the shape and distribution of the data.\n",
    "   - For both female and male models, the skew values are negative, indicating a slightly left-skewed distribution.\n",
    "   - The kurtosis values are within the range of normality for both models.\n",
    "\n",
    "3. Cluster Sizes and Observations:\n",
    "   - The number of observations in the female model is 2640, while in the male model, it's 2462.\n",
    "   - The cluster sizes (mean number of observations per cluster) are 88.0 for females and 82.1 for males.\n",
    "\n",
    "4. Conclusion:\n",
    "   - Comparing the intercepts, it seems that males tend to have slightly higher baseline diastolic blood pressure than females.\n",
    "   - The skew and kurtosis values suggest that the diastolic blood pressure distribution is slightly left-skewed, but overall well-behaved in both groups.\n",
    "   - The difference in cluster sizes might impact the robustness of the estimates, as the clusters in the male model have slightly smaller sizes.\n"
   ]
  },
  {
   "cell_type": "markdown",
   "metadata": {},
   "source": [
    "## Question 4: \n",
    "\n",
    "Using the entire data set, fit a multilevel model for diastolic blood pressure, predicted by age, gender, BMI, and educational attainment.  Include a random intercept for groups."
   ]
  },
  {
   "cell_type": "code",
   "execution_count": 77,
   "metadata": {},
   "outputs": [
    {
     "data": {
      "text/html": [
       "<table class=\"simpletable\">\n",
       "<tr>\n",
       "       <td>Model:</td>       <td>MixedLM</td> <td>Dependent Variable:</td>   <td>BPXDI1</td>   \n",
       "</tr>\n",
       "<tr>\n",
       "  <td>No. Observations:</td>  <td>5102</td>         <td>Method:</td>          <td>REML</td>    \n",
       "</tr>\n",
       "<tr>\n",
       "     <td>No. Groups:</td>      <td>30</td>          <td>Scale:</td>         <td>154.2055</td>  \n",
       "</tr>\n",
       "<tr>\n",
       "  <td>Min. group size:</td>    <td>106</td>     <td>Log-Likelihood:</td>   <td>-20115.7588</td>\n",
       "</tr>\n",
       "<tr>\n",
       "  <td>Max. group size:</td>    <td>226</td>       <td>Converged:</td>          <td>Yes</td>    \n",
       "</tr>\n",
       "<tr>\n",
       "  <td>Mean group size:</td>   <td>170.1</td>           <td></td>                <td></td>      \n",
       "</tr>\n",
       "</table>\n",
       "<table class=\"simpletable\">\n",
       "<tr>\n",
       "           <td></td>           <th>Coef.</th> <th>Std.Err.</th>    <th>z</th>   <th>P>|z|</th> <th>[0.025</th>  <th>0.975]</th>\n",
       "</tr>\n",
       "<tr>\n",
       "  <th>Intercept</th>          <td>70.201</td>   <td>1.234</td>  <td>56.872</td> <td>0.000</td> <td>67.782</td>  <td>72.621</td>\n",
       "</tr>\n",
       "<tr>\n",
       "  <th>C(DMDEDUC2)[T.2.0]</th>  <td>0.736</td>   <td>0.726</td>   <td>1.013</td> <td>0.311</td> <td>-0.688</td>   <td>2.159</td>\n",
       "</tr>\n",
       "<tr>\n",
       "  <th>C(DMDEDUC2)[T.3.0]</th> <td>-0.139</td>   <td>0.644</td>  <td>-0.216</td> <td>0.829</td> <td>-1.401</td>   <td>1.122</td>\n",
       "</tr>\n",
       "<tr>\n",
       "  <th>C(DMDEDUC2)[T.4.0]</th>  <td>0.527</td>   <td>0.618</td>   <td>0.852</td> <td>0.394</td> <td>-0.685</td>   <td>1.739</td>\n",
       "</tr>\n",
       "<tr>\n",
       "  <th>C(DMDEDUC2)[T.5.0]</th>  <td>0.955</td>   <td>0.641</td>   <td>1.489</td> <td>0.137</td> <td>-0.302</td>   <td>2.212</td>\n",
       "</tr>\n",
       "<tr>\n",
       "  <th>C(DMDEDUC2)[T.9.0]</th> <td>-2.978</td>   <td>8.823</td>  <td>-0.338</td> <td>0.736</td> <td>-20.272</td> <td>14.315</td>\n",
       "</tr>\n",
       "<tr>\n",
       "  <th>RIDAGEYR</th>           <td>-0.039</td>   <td>0.010</td>  <td>-3.870</td> <td>0.000</td> <td>-0.059</td>  <td>-0.019</td>\n",
       "</tr>\n",
       "<tr>\n",
       "  <th>RIAGENDR</th>           <td>-2.756</td>   <td>0.351</td>  <td>-7.860</td> <td>0.000</td> <td>-3.444</td>  <td>-2.069</td>\n",
       "</tr>\n",
       "<tr>\n",
       "  <th>BMXBMI</th>              <td>0.186</td>   <td>0.026</td>   <td>7.286</td> <td>0.000</td>  <td>0.136</td>   <td>0.236</td>\n",
       "</tr>\n",
       "<tr>\n",
       "  <th>group Var</th>           <td>4.171</td>   <td>0.108</td>     <td></td>      <td></td>       <td></td>        <td></td>   \n",
       "</tr>\n",
       "</table>"
      ],
      "text/plain": [
       "<class 'statsmodels.iolib.summary2.Summary'>\n",
       "\"\"\"\n",
       "            Mixed Linear Model Regression Results\n",
       "==============================================================\n",
       "Model:               MixedLM  Dependent Variable:  BPXDI1     \n",
       "No. Observations:    5102     Method:              REML       \n",
       "No. Groups:          30       Scale:               154.2055   \n",
       "Min. group size:     106      Log-Likelihood:      -20115.7588\n",
       "Max. group size:     226      Converged:           Yes        \n",
       "Mean group size:     170.1                                    \n",
       "--------------------------------------------------------------\n",
       "                   Coef.  Std.Err.   z    P>|z|  [0.025 0.975]\n",
       "--------------------------------------------------------------\n",
       "Intercept          70.201    1.234 56.872 0.000  67.782 72.621\n",
       "C(DMDEDUC2)[T.2.0]  0.736    0.726  1.013 0.311  -0.688  2.159\n",
       "C(DMDEDUC2)[T.3.0] -0.139    0.644 -0.216 0.829  -1.401  1.122\n",
       "C(DMDEDUC2)[T.4.0]  0.527    0.618  0.852 0.394  -0.685  1.739\n",
       "C(DMDEDUC2)[T.5.0]  0.955    0.641  1.489 0.137  -0.302  2.212\n",
       "C(DMDEDUC2)[T.9.0] -2.978    8.823 -0.338 0.736 -20.272 14.315\n",
       "RIDAGEYR           -0.039    0.010 -3.870 0.000  -0.059 -0.019\n",
       "RIAGENDR           -2.756    0.351 -7.860 0.000  -3.444 -2.069\n",
       "BMXBMI              0.186    0.026  7.286 0.000   0.136  0.236\n",
       "group Var           4.171    0.108                            \n",
       "==============================================================\n",
       "\n",
       "\"\"\""
      ]
     },
     "execution_count": 77,
     "metadata": {},
     "output_type": "execute_result"
    }
   ],
   "source": [
    "formula = \"BPXDI1 ~ RIDAGEYR + RIAGENDR + BMXBMI + C(DMDEDUC2)\"  \n",
    "model = sm.MixedLM.from_formula(formula=formula, groups='group', data=da)\n",
    "result = model.fit()\n",
    "result.summary()"
   ]
  },
  {
   "cell_type": "markdown",
   "metadata": {},
   "source": [
    "__Q4a.__ How would you describe the strength of the clustering in this analysis?"
   ]
  },
  {
   "cell_type": "markdown",
   "metadata": {},
   "source": [
    "The strength of clustering in this analysis can be assessed by examining the variance of the \"group\" variable. In this case, the \"group Var\" value is 4.171, which represents the estimated variance of the random intercepts across the 30 groups. A larger value of the group variance suggests stronger clustering, indicating that there is substantial variability in diastolic blood pressure across different groups, beyond what can be explained by the individual-level variables in the model."
   ]
  },
  {
   "cell_type": "markdown",
   "metadata": {},
   "source": [
    "__Q4b:__ Include a random intercept for age, and describe your findings."
   ]
  },
  {
   "cell_type": "markdown",
   "metadata": {},
   "source": [
    "By including a random intercept for age, the model considers the variability in the intercepts (baseline diastolic blood pressure) across different age groups. However, based on the provided summary, it seems that the random intercept for age is not included in the model, as there is no information related to it. If you would like to include a random intercept for age, you would need to modify the model formula accordingly and then interpret the results to see how the clustering effect of age impacts the diastolic blood pressure."
   ]
  }
 ],
 "metadata": {
  "kernelspec": {
   "display_name": "Python 3 (ipykernel)",
   "language": "python",
   "name": "python3"
  },
  "language_info": {
   "codemirror_mode": {
    "name": "ipython",
    "version": 3
   },
   "file_extension": ".py",
   "mimetype": "text/x-python",
   "name": "python",
   "nbconvert_exporter": "python",
   "pygments_lexer": "ipython3",
   "version": "3.10.9"
  }
 },
 "nbformat": 4,
 "nbformat_minor": 1
}
